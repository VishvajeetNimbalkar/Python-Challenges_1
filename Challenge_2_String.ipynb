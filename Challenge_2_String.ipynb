{
 "cells": [
  {
   "cell_type": "markdown",
   "id": "8574b915",
   "metadata": {},
   "source": [
    "## Print a string that uses double quotation marks inside the string.\n"
   ]
  },
  {
   "cell_type": "code",
   "execution_count": 1,
   "id": "3153f9c4",
   "metadata": {},
   "outputs": [
    {
     "data": {
      "text/plain": [
       "'hello'"
      ]
     },
     "execution_count": 1,
     "metadata": {},
     "output_type": "execute_result"
    }
   ],
   "source": [
    "\"hello\""
   ]
  },
  {
   "cell_type": "markdown",
   "id": "5b44607c",
   "metadata": {},
   "source": [
    "## Print a string that uses an apostrophe inside the string."
   ]
  },
  {
   "cell_type": "code",
   "execution_count": 2,
   "id": "424f9848",
   "metadata": {},
   "outputs": [
    {
     "data": {
      "text/plain": [
       "\"Hello's\""
      ]
     },
     "execution_count": 2,
     "metadata": {},
     "output_type": "execute_result"
    }
   ],
   "source": [
    "\"Hello's\""
   ]
  },
  {
   "cell_type": "markdown",
   "id": "2fafb419",
   "metadata": {},
   "source": [
    "# Print a string that spans multiple lines with whitespace preserved."
   ]
  },
  {
   "cell_type": "code",
   "execution_count": 5,
   "id": "0c9206c0",
   "metadata": {},
   "outputs": [
    {
     "data": {
      "text/plain": [
       "' ram is cleaver       Vishwajeet  is  handsome  '"
      ]
     },
     "execution_count": 5,
     "metadata": {},
     "output_type": "execute_result"
    }
   ],
   "source": [
    "\" ram is cleaver    \\\n",
    "   Vishwajeet  is  handsome  \""
   ]
  },
  {
   "cell_type": "markdown",
   "id": "5bb6d9f7",
   "metadata": {},
   "source": [
    "# 5. correct following python code"
   ]
  },
  {
   "cell_type": "code",
   "execution_count": 6,
   "id": "c817466c",
   "metadata": {},
   "outputs": [],
   "source": [
    "mystr = \"My favourite TV Series is Game of Thrones\""
   ]
  },
  {
   "cell_type": "code",
   "execution_count": 7,
   "id": "a9f1baf1",
   "metadata": {},
   "outputs": [
    {
     "data": {
      "text/plain": [
       "'My favourite TV Series is Game of Thrones'"
      ]
     },
     "execution_count": 7,
     "metadata": {},
     "output_type": "execute_result"
    }
   ],
   "source": [
    "mystr"
   ]
  },
  {
   "cell_type": "code",
   "execution_count": 8,
   "id": "840601ff",
   "metadata": {},
   "outputs": [],
   "source": [
    "mystr = \"My favourite TV Series is \\\"Game of Thrones\\\"\""
   ]
  },
  {
   "cell_type": "code",
   "execution_count": 9,
   "id": "23e03d9c",
   "metadata": {},
   "outputs": [
    {
     "data": {
      "text/plain": [
       "'My favourite TV Series is \"Game of Thrones\"'"
      ]
     },
     "execution_count": 9,
     "metadata": {},
     "output_type": "execute_result"
    }
   ],
   "source": [
    "mystr"
   ]
  },
  {
   "cell_type": "code",
   "execution_count": null,
   "id": "917c17e8",
   "metadata": {},
   "outputs": [],
   "source": []
  }
 ],
 "metadata": {
  "kernelspec": {
   "display_name": "Python 3 (ipykernel)",
   "language": "python",
   "name": "python3"
  },
  "language_info": {
   "codemirror_mode": {
    "name": "ipython",
    "version": 3
   },
   "file_extension": ".py",
   "mimetype": "text/x-python",
   "name": "python",
   "nbconvert_exporter": "python",
   "pygments_lexer": "ipython3",
   "version": "3.9.12"
  }
 },
 "nbformat": 4,
 "nbformat_minor": 5
}
