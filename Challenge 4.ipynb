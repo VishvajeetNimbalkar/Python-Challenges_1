{
 "cells": [
  {
   "cell_type": "markdown",
   "id": "10d397c5",
   "metadata": {},
   "source": [
    "## Use all the logical operators for x and y values and see if they are True or False"
   ]
  },
  {
   "cell_type": "code",
   "execution_count": 8,
   "id": "06ef939b",
   "metadata": {},
   "outputs": [
    {
     "data": {
      "text/plain": [
       "False"
      ]
     },
     "execution_count": 8,
     "metadata": {},
     "output_type": "execute_result"
    }
   ],
   "source": [
    "a=3\n",
    "b=4\n",
    "a==b"
   ]
  },
  {
   "cell_type": "markdown",
   "id": "04e2e6a8",
   "metadata": {},
   "source": [
    "## Fill in the blank so that the following expression will be True"
   ]
  },
  {
   "cell_type": "code",
   "execution_count": 9,
   "id": "1ea0284a",
   "metadata": {},
   "outputs": [
    {
     "data": {
      "text/plain": [
       "True"
      ]
     },
     "execution_count": 9,
     "metadata": {},
     "output_type": "execute_result"
    }
   ],
   "source": [
    "3<4"
   ]
  },
  {
   "cell_type": "markdown",
   "id": "57855561",
   "metadata": {},
   "source": [
    "## Test whether this expression is True or False and correct it"
   ]
  },
  {
   "cell_type": "code",
   "execution_count": 10,
   "id": "eadd4958",
   "metadata": {},
   "outputs": [
    {
     "name": "stdout",
     "output_type": "stream",
     "text": [
      "True\n"
     ]
    }
   ],
   "source": [
    "print('shweta' == 'shweta')"
   ]
  },
  {
   "cell_type": "markdown",
   "id": "e39481ee",
   "metadata": {},
   "source": [
    "## Test whether the length of your input string is <, > or = 5 characters"
   ]
  },
  {
   "cell_type": "code",
   "execution_count": 11,
   "id": "003a22f8",
   "metadata": {},
   "outputs": [
    {
     "name": "stdout",
     "output_type": "stream",
     "text": [
      "y is grater than 5\n"
     ]
    }
   ],
   "source": [
    "x=\"vishwa\"\n",
    "y=len(x)\n",
    "y\n",
    "if (y>5):\n",
    "    print(\"y is grater than 5\")\n",
    "elif(y<5):\n",
    "    print(\"y is less than 5\")\n",
    "else:\n",
    "    print(\"y is equal to 5\")"
   ]
  },
  {
   "cell_type": "markdown",
   "id": "4910fdd9",
   "metadata": {},
   "source": [
    "## 1. Check whether person is fully vaccinated or partially vanninated o not vaccinated \n",
    "## 1.1 Solve string mistakes:--> .| , | : | covaxine \n",
    "## 1.2 Add partially vaxinated conditions for all the vaxine types"
   ]
  },
  {
   "cell_type": "code",
   "execution_count": 1,
   "id": "d1ecced4",
   "metadata": {},
   "outputs": [
    {
     "name": "stdout",
     "output_type": "stream",
     "text": [
      "covaxin\n",
      "1\n",
      "Not fully vaccinated\n"
     ]
    }
   ],
   "source": [
    "vaccine=input()\n",
    "num_doses=int(input())\n",
    "\n",
    "# clean string using string manupulation\n",
    "vaccine = vaccine.replace(' ', '') # replace extra spaces\n",
    "vaccine = vaccine.replace('co-vaxin', 'covaxin') # replace '-'  with nothing\n",
    "vaccine = vaccine.lower() # lower case all the charactersa in string\n",
    "\n",
    "\n",
    "if vaccine=='covishield' and num_doses==2:\n",
    "    print('Fully vaccinated')\n",
    "elif vaccine=='covaxin' and num_doses==2:\n",
    "    print('Fully vaccinated')\n",
    "elif vaccine=='sputnik' and num_doses==1:\n",
    "    print('Fully vaccinated')\n",
    "else:\n",
    "    print(\"Not fully vaccinated\")"
   ]
  },
  {
   "cell_type": "markdown",
   "id": "e782b775",
   "metadata": {},
   "source": [
    "## calculate the square of a number if it greater than 5"
   ]
  },
  {
   "cell_type": "code",
   "execution_count": 7,
   "id": "a2a67379",
   "metadata": {},
   "outputs": [
    {
     "name": "stdout",
     "output_type": "stream",
     "text": [
      "x is greater than 5\n"
     ]
    }
   ],
   "source": [
    "x=7\n",
    "if (x>5):\n",
    "    x*2\n",
    "    print(\"x is greater than 5\")\n",
    "else:\n",
    "    print(\"x is less than 5\")\n",
    "    "
   ]
  },
  {
   "cell_type": "code",
   "execution_count": null,
   "id": "e10f05d3",
   "metadata": {},
   "outputs": [],
   "source": []
  }
 ],
 "metadata": {
  "kernelspec": {
   "display_name": "Python 3 (ipykernel)",
   "language": "python",
   "name": "python3"
  },
  "language_info": {
   "codemirror_mode": {
    "name": "ipython",
    "version": 3
   },
   "file_extension": ".py",
   "mimetype": "text/x-python",
   "name": "python",
   "nbconvert_exporter": "python",
   "pygments_lexer": "ipython3",
   "version": "3.9.12"
  }
 },
 "nbformat": 4,
 "nbformat_minor": 5
}
