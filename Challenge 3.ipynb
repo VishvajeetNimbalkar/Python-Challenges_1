{
 "cells": [
  {
   "cell_type": "markdown",
   "id": "c831ebc6",
   "metadata": {},
   "source": [
    "## 1 Create a tuple of 3 names: \"john\", \"sia\" and \"ria\""
   ]
  },
  {
   "cell_type": "code",
   "execution_count": 1,
   "id": "33026ad4",
   "metadata": {},
   "outputs": [],
   "source": [
    "tup=(\"john\", \"sia\",\"ria\")"
   ]
  },
  {
   "cell_type": "code",
   "execution_count": 2,
   "id": "2ea03255",
   "metadata": {},
   "outputs": [
    {
     "data": {
      "text/plain": [
       "('john', 'sia', 'ria')"
      ]
     },
     "execution_count": 2,
     "metadata": {},
     "output_type": "execute_result"
    }
   ],
   "source": [
    "tup"
   ]
  },
  {
   "cell_type": "markdown",
   "id": "4846513a",
   "metadata": {},
   "source": [
    "## 2 Display the second object in the tuple"
   ]
  },
  {
   "cell_type": "code",
   "execution_count": 3,
   "id": "744e2fbf",
   "metadata": {},
   "outputs": [
    {
     "data": {
      "text/plain": [
       "'ria'"
      ]
     },
     "execution_count": 3,
     "metadata": {},
     "output_type": "execute_result"
    }
   ],
   "source": [
    "tup[2]"
   ]
  },
  {
   "cell_type": "markdown",
   "id": "39edf197",
   "metadata": {},
   "source": [
    "## Create a tuple containing the letters of your name from a string"
   ]
  },
  {
   "cell_type": "code",
   "execution_count": 4,
   "id": "4768d7d7",
   "metadata": {},
   "outputs": [],
   "source": [
    "tup1=(\"v\",\"i\",\"s\",\"h\",\"v\",\"a\")"
   ]
  },
  {
   "cell_type": "code",
   "execution_count": 5,
   "id": "73b401d4",
   "metadata": {},
   "outputs": [
    {
     "data": {
      "text/plain": [
       "('v', 'i', 's', 'h', 'v', 'a')"
      ]
     },
     "execution_count": 5,
     "metadata": {},
     "output_type": "execute_result"
    }
   ],
   "source": [
    "tup1"
   ]
  },
  {
   "cell_type": "markdown",
   "id": "360eb3a9",
   "metadata": {},
   "source": [
    "## Create a list of 3 names: \"john\", \"sia\" and \"ria\""
   ]
  },
  {
   "cell_type": "code",
   "execution_count": 14,
   "id": "bfe4a359",
   "metadata": {},
   "outputs": [],
   "source": [
    "l1=list(tup)"
   ]
  },
  {
   "cell_type": "code",
   "execution_count": 15,
   "id": "f7d7441f",
   "metadata": {},
   "outputs": [
    {
     "data": {
      "text/plain": [
       "['john', 'sia', 'ria']"
      ]
     },
     "execution_count": 15,
     "metadata": {},
     "output_type": "execute_result"
    }
   ],
   "source": [
    "l1"
   ]
  },
  {
   "cell_type": "markdown",
   "id": "72ecb8dd",
   "metadata": {},
   "source": [
    "## Append the string \"elena\" to the names list using .append()"
   ]
  },
  {
   "cell_type": "code",
   "execution_count": 16,
   "id": "dd79e050",
   "metadata": {},
   "outputs": [],
   "source": [
    "l1.append(\"elena\")"
   ]
  },
  {
   "cell_type": "code",
   "execution_count": 36,
   "id": "7b78d226",
   "metadata": {},
   "outputs": [
    {
     "data": {
      "text/plain": [
       "['john', 'sia', 'ria', 'elena']"
      ]
     },
     "execution_count": 36,
     "metadata": {},
     "output_type": "execute_result"
    }
   ],
   "source": [
    "l1"
   ]
  },
  {
   "cell_type": "markdown",
   "id": "b44e7150",
   "metadata": {},
   "source": [
    "## Print the last item in names list"
   ]
  },
  {
   "cell_type": "code",
   "execution_count": 18,
   "id": "b2322722",
   "metadata": {},
   "outputs": [
    {
     "data": {
      "text/plain": [
       "'elena'"
      ]
     },
     "execution_count": 18,
     "metadata": {},
     "output_type": "execute_result"
    }
   ],
   "source": [
    "l1[-1]"
   ]
  },
  {
   "cell_type": "markdown",
   "id": "a7c84c21",
   "metadata": {},
   "source": [
    "## check 'john' name's length using len()"
   ]
  },
  {
   "cell_type": "code",
   "execution_count": 24,
   "id": "21d37c6b",
   "metadata": {},
   "outputs": [],
   "source": [
    "l2=l1[0]\n"
   ]
  },
  {
   "cell_type": "code",
   "execution_count": 25,
   "id": "7113d13e",
   "metadata": {},
   "outputs": [
    {
     "data": {
      "text/plain": [
       "'john'"
      ]
     },
     "execution_count": 25,
     "metadata": {},
     "output_type": "execute_result"
    }
   ],
   "source": [
    "l2"
   ]
  },
  {
   "cell_type": "code",
   "execution_count": 29,
   "id": "7b35adf1",
   "metadata": {},
   "outputs": [
    {
     "data": {
      "text/plain": [
       "4"
      ]
     },
     "execution_count": 29,
     "metadata": {},
     "output_type": "execute_result"
    }
   ],
   "source": [
    "len(l1[0])"
   ]
  },
  {
   "cell_type": "markdown",
   "id": "0a7b09c1",
   "metadata": {},
   "source": [
    "## Create an empty dictionary"
   ]
  },
  {
   "cell_type": "code",
   "execution_count": 33,
   "id": "5ae452e7",
   "metadata": {},
   "outputs": [],
   "source": [
    "di={}"
   ]
  },
  {
   "cell_type": "code",
   "execution_count": 31,
   "id": "ba421939",
   "metadata": {},
   "outputs": [
    {
     "data": {
      "text/plain": [
       "{}"
      ]
     },
     "execution_count": 31,
     "metadata": {},
     "output_type": "execute_result"
    }
   ],
   "source": [
    "di"
   ]
  },
  {
   "cell_type": "markdown",
   "id": "4be948df",
   "metadata": {},
   "source": [
    "## Add some key-value pairs to the dictionary"
   ]
  },
  {
   "cell_type": "code",
   "execution_count": 34,
   "id": "79a1c5e7",
   "metadata": {},
   "outputs": [],
   "source": [
    "di[0]=\"Ram\"\n",
    "di[1]=\"balram\"\n",
    "di[2]=\"Rajaram\""
   ]
  },
  {
   "cell_type": "code",
   "execution_count": 35,
   "id": "f999597b",
   "metadata": {},
   "outputs": [
    {
     "data": {
      "text/plain": [
       "{0: 'Ram', 1: 'balram', 2: 'Rajaram'}"
      ]
     },
     "execution_count": 35,
     "metadata": {},
     "output_type": "execute_result"
    }
   ],
   "source": [
    "di"
   ]
  },
  {
   "cell_type": "code",
   "execution_count": null,
   "id": "25b033c3",
   "metadata": {},
   "outputs": [],
   "source": []
  }
 ],
 "metadata": {
  "kernelspec": {
   "display_name": "Python 3 (ipykernel)",
   "language": "python",
   "name": "python3"
  },
  "language_info": {
   "codemirror_mode": {
    "name": "ipython",
    "version": 3
   },
   "file_extension": ".py",
   "mimetype": "text/x-python",
   "name": "python",
   "nbconvert_exporter": "python",
   "pygments_lexer": "ipython3",
   "version": "3.9.12"
  }
 },
 "nbformat": 4,
 "nbformat_minor": 5
}
